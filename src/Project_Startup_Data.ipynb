{
 "cells": [
  {
   "cell_type": "markdown",
   "metadata": {},
   "source": [
    "## Load Data"
   ]
  },
  {
   "cell_type": "code",
   "execution_count": 104,
   "metadata": {},
   "outputs": [],
   "source": [
    "import pandas as pd\n",
    "import numpy as np\n",
    "import matplotlib\n",
    "from matplotlib import pylab as plt\n",
    "import sklearn\n",
    "from sklearn.model_selection import train_test_split, KFold\n",
    "from sklearn.preprocessing import OneHotEncoder, MinMaxScaler, StandardScaler, LabelEncoder\n",
    "from sklearn.compose import ColumnTransformer\n",
    "from sklearn.pipeline import Pipeline\n",
    "import datetime as dt"
   ]
  },
  {
   "cell_type": "code",
   "execution_count": 88,
   "metadata": {
    "scrolled": true
   },
   "outputs": [],
   "source": [
    "#load data and replace nulls\n",
    "df = pd.read_csv('../data/Startup Data.csv')\n",
    "df = df.replace('NaN', np.nan) \n",
    "\n",
    "#row 124 and 832 are repeats of the same data point\n",
    "df.iloc[124] == df.iloc[832]\n",
    "df = df.drop(832)"
   ]
  },
  {
   "cell_type": "code",
   "execution_count": 89,
   "metadata": {},
   "outputs": [
    {
     "name": "stdout",
     "output_type": "stream",
     "text": [
      "True\n",
      "True\n",
      "True\n",
      "True\n",
      "True     921\n",
      "False      1\n",
      "dtype: int64\n"
     ]
    }
   ],
   "source": [
    "#check for unique id columns that can be ignored\n",
    "print(df['Unnamed: 0'].value_counts().shape == df['Unnamed: 0'].shape)\n",
    "print(df['id'].value_counts().shape == df['id'].shape)\n",
    "print(df['name'].value_counts().shape == df['name'].shape)\n",
    "print(df['object_id'].value_counts().shape == df['object_id'].shape)\n",
    "\n",
    "#state code is repeated twice with one mismatched state name\n",
    "print((df['state_code.1'] == df['state_code']).value_counts())\n",
    "\n",
    "del df['Unnamed: 0']\n",
    "del df['id']\n",
    "del df['name']\n",
    "del df['object_id']\n",
    "del df['state_code.1']"
   ]
  },
  {
   "cell_type": "code",
   "execution_count": 125,
   "metadata": {},
   "outputs": [],
   "source": [
    "#all remaining features split between categorical/continuous/dates to be transformed to continuous\n",
    "#categorical features split further between ordinal scaler and one hot encoder\n",
    "\n",
    "cat_ftrs = ['state_code', 'zip_code', 'city','labels', 'category_code', 'is_CA','is_NY','is_MA', \n",
    "        'is_TX', 'is_otherstate', 'category_code', 'is_software', 'is_web','is_mobile', \n",
    "        'is_enterprise','is_advertising', 'is_gamesvideo', 'is_ecommerce', 'is_biotech', \n",
    "        'is_consulting', 'is_othercategory', 'has_VC', 'has_angel', 'has_roundA', \n",
    "        'has_roundB', 'has_roundC', 'has_roundD','is_top500', 'milestones']\n",
    "\n",
    "ss_ftrs = ['latitude', 'longitude', 'age_first_funding_year', 'age_last_funding_year', \n",
    "            'age_first_milestone_year', 'age_last_milestone_year', 'relationships', \n",
    "            'funding_rounds', 'avg_participants', 'funding_total_usd',]\n",
    "\n"
   ]
  },
  {
   "cell_type": "code",
   "execution_count": 126,
   "metadata": {
    "scrolled": true
   },
   "outputs": [
    {
     "name": "stderr",
     "output_type": "stream",
     "text": [
      "C:\\Users\\aksha\\anaconda3\\envs\\data1030\\lib\\site-packages\\pandas\\core\\indexing.py:671: SettingWithCopyWarning: \n",
      "A value is trying to be set on a copy of a slice from a DataFrame\n",
      "\n",
      "See the caveats in the documentation: https://pandas.pydata.org/pandas-docs/stable/user_guide/indexing.html#returning-a-view-versus-a-copy\n",
      "  self._setitem_with_indexer(indexer, value)\n"
     ]
    }
   ],
   "source": [
    "#converting all the dates into continuous features, replaced negative times with NaNs\n",
    "dates = ['founded_at', 'closed_at', 'first_funding_at', 'last_funding_at']\n",
    "for date in dates:\n",
    "    df[date] = pd.to_datetime(df[date]).values.astype(np.int64) // 10**6\n",
    "for i in range(df.shape[0]):\n",
    "    if df['closed_at'].iloc[i] < 0:\n",
    "        df['closed_at'].iloc[i] = np.nan"
   ]
  },
  {
   "cell_type": "code",
   "execution_count": 127,
   "metadata": {},
   "outputs": [],
   "source": [
    "cat_ftrs = ['state_code', 'zip_code', 'city','labels', 'category_code', 'is_CA','is_NY','is_MA', \n",
    "        'is_TX', 'is_otherstate', 'category_code', 'is_software', 'is_web','is_mobile', \n",
    "        'is_enterprise','is_advertising', 'is_gamesvideo', 'is_ecommerce', 'is_biotech', \n",
    "        'is_consulting', 'is_othercategory','has_VC', 'has_angel', 'has_roundA', \n",
    "        'has_roundB', 'has_roundC', 'has_roundD','is_top500', 'milestones', 'founded_at', 'closed_at', \n",
    "        'first_funding_at', 'last_funding_at']"
   ]
  },
  {
   "cell_type": "markdown",
   "metadata": {},
   "source": [
    "## EDA"
   ]
  },
  {
   "cell_type": "code",
   "execution_count": 128,
   "metadata": {
    "scrolled": false
   },
   "outputs": [
    {
     "name": "stdout",
     "output_type": "stream",
     "text": [
      "state_code \n",
      " CA    487\n",
      "NY    106\n",
      "MA     83\n",
      "TX     42\n",
      "WA     42\n",
      "CO     19\n",
      "IL     18\n",
      "PA     17\n",
      "VA     13\n",
      "GA     11\n",
      "NC      7\n",
      "MD      7\n",
      "NJ      7\n",
      "OR      7\n",
      "FL      6\n",
      "OH      6\n",
      "MN      5\n",
      "CT      4\n",
      "DC      4\n",
      "TN      3\n",
      "UT      3\n",
      "MI      3\n",
      "RI      3\n",
      "AZ      2\n",
      "MO      2\n",
      "NH      2\n",
      "IN      2\n",
      "NV      2\n",
      "KY      2\n",
      "ME      2\n",
      "AR      1\n",
      "WI      1\n",
      "NM      1\n",
      "WV      1\n",
      "ID      1\n",
      "Name: state_code, dtype: int64 \n",
      "\n",
      "count    922.000000\n",
      "mean      38.518566\n",
      "std        3.743372\n",
      "min       25.752358\n",
      "25%       37.388869\n",
      "50%       37.779281\n",
      "75%       40.730646\n",
      "max       59.335232\n",
      "Name: latitude, dtype: float64\n"
     ]
    },
    {
     "data": {
      "image/png": "[encoded data removed]",
      "text/plain": [
       "<Figure size 432x288 with 1 Axes>"
      ]
     },
     "metadata": {
      "needs_background": "light"
     },
     "output_type": "display_data"
    },
    {
     "name": "stdout",
     "output_type": "stream",
     "text": [
      "count    922.000000\n",
      "mean    -103.519249\n",
      "std       22.398102\n",
      "min     -122.756956\n",
      "25%     -122.199823\n",
      "50%     -118.365504\n",
      "75%      -77.213612\n",
      "max       18.057121\n",
      "Name: longitude, dtype: float64\n"
     ]
    },
    {
     "data": {
      "image/png": "[encoded data removed]",
      "text/plain": [
       "<Figure size 432x288 with 1 Axes>"
      ]
     },
     "metadata": {
      "needs_background": "light"
     },
     "output_type": "display_data"
    },
    {
     "name": "stdout",
     "output_type": "stream",
     "text": [
      "zip_code \n",
      " 94107         30\n",
      "94105         23\n",
      "95054         20\n",
      "94103         19\n",
      "94043         18\n",
      "              ..\n",
      "8827           1\n",
      "1824           1\n",
      "6032           1\n",
      "01752-4603     1\n",
      "2116           1\n",
      "Name: zip_code, Length: 382, dtype: int64 \n",
      "\n",
      "city \n",
      " San Francisco    128\n",
      "New York          91\n",
      "Mountain View     47\n",
      "Palo Alto         35\n",
      "Austin            27\n",
      "                ... \n",
      "Hampton            1\n",
      "Waco               1\n",
      "West Newfield      1\n",
      "Paramus            1\n",
      "Dulles             1\n",
      "Name: city, Length: 221, dtype: int64 \n",
      "\n",
      "labels \n",
      " 1    596\n",
      "0    326\n",
      "Name: labels, dtype: int64 \n",
      "\n",
      "founded_at \n",
      " 1041379    55\n",
      "1104537    54\n",
      "1136073    54\n",
      "1009843    54\n",
      "946684     53\n",
      "           ..\n",
      "1102291     1\n",
      "1115596     1\n",
      "1105747     1\n",
      "1238457     1\n",
      "1196035     1\n",
      "Name: founded_at, Length: 217, dtype: int64 \n",
      "\n",
      "closed_at \n",
      " 1370044.0    25\n",
      "1325376.0    24\n",
      "1372636.0    15\n",
      "1367366.0    12\n",
      "1293840.0     8\n",
      "             ..\n",
      "1297641.0     1\n",
      "1283299.0     1\n",
      "1342656.0     1\n",
      "1363132.0     1\n",
      "1251331.0     1\n",
      "Name: closed_at, Length: 202, dtype: int64 \n",
      "\n",
      "first_funding_at \n",
      " 1199145    18\n",
      "1167609    16\n",
      "1136073    12\n",
      "1141171    10\n",
      "1164931     9\n",
      "           ..\n",
      "1184544     1\n",
      "1179273     1\n",
      "1117756     1\n",
      "1158796     1\n",
      "1105920     1\n",
      "Name: first_funding_at, Length: 585, dtype: int64 \n",
      "\n",
      "last_funding_at \n",
      " 1199145    11\n",
      "1196467     6\n",
      "1325376     6\n",
      "1220227     6\n",
      "1280620     5\n",
      "           ..\n",
      "1277856     1\n",
      "1339027     1\n",
      "1276560     1\n",
      "1339632     1\n",
      "1199318     1\n",
      "Name: last_funding_at, Length: 680, dtype: int64 \n",
      "\n",
      "count    922.000000\n",
      "mean       2.237235\n",
      "std        2.511337\n",
      "min       -9.046600\n",
      "25%        0.574650\n",
      "50%        1.449350\n",
      "75%        3.578075\n",
      "max       21.895900\n",
      "Name: age_first_funding_year, dtype: float64\n"
     ]
    },
    {
     "data": {
      "image/png": "[encoded data removed]",
      "text/plain": [
       "<Figure size 432x288 with 1 Axes>"
      ]
     },
     "metadata": {
      "needs_background": "light"
     },
     "output_type": "display_data"
    },
    {
     "name": "stdout",
     "output_type": "stream",
     "text": [
      "count    922.000000\n",
      "mean       3.930933\n",
      "std        2.969478\n",
      "min       -9.046600\n",
      "25%        1.669175\n",
      "50%        3.520550\n",
      "75%        5.560925\n",
      "max       21.895900\n",
      "Name: age_last_funding_year, dtype: float64\n"
     ]
    },
    {
     "data": {
      "image/png": "[encoded data removed]",
      "text/plain": [
       "<Figure size 432x288 with 1 Axes>"
      ]
     },
     "metadata": {
      "needs_background": "light"
     },
     "output_type": "display_data"
    },
    {
     "name": "stdout",
     "output_type": "stream",
     "text": [
      "count    770.000000\n",
      "mean       3.055706\n",
      "std        2.978976\n",
      "min      -14.169900\n",
      "25%        1.000000\n",
      "50%        2.519150\n",
      "75%        4.688350\n",
      "max       24.684900\n",
      "Name: age_first_milestone_year, dtype: float64\n"
     ]
    },
    {
     "data": {
      "image/png": "[encoded data removed]",
      "text/plain": [
       "<Figure size 432x288 with 1 Axes>"
      ]
     },
     "metadata": {
      "needs_background": "light"
     },
     "output_type": "display_data"
    },
    {
     "name": "stdout",
     "output_type": "stream",
     "text": [
      "count    770.000000\n",
      "mean       4.755399\n",
      "std        3.214081\n",
      "min       -7.005500\n",
      "25%        2.397300\n",
      "50%        4.482200\n",
      "75%        6.753400\n",
      "max       24.684900\n",
      "Name: age_last_milestone_year, dtype: float64\n"
     ]
    },
    {
     "data": {
      "image/png": "[encoded data removed]",
      "text/plain": [
       "<Figure size 432x288 with 1 Axes>"
      ]
     },
     "metadata": {
      "needs_background": "light"
     },
     "output_type": "display_data"
    },
    {
     "name": "stdout",
     "output_type": "stream",
     "text": [
      "count    922.000000\n",
      "mean       7.703905\n",
      "std        7.266762\n",
      "min        0.000000\n",
      "25%        3.000000\n",
      "50%        5.000000\n",
      "75%       10.000000\n",
      "max       63.000000\n",
      "Name: relationships, dtype: float64\n"
     ]
    },
    {
     "data": {
      "image/png": "[encoded data removed]",
      "text/plain": [
       "<Figure size 432x288 with 1 Axes>"
      ]
     },
     "metadata": {
      "needs_background": "light"
     },
     "output_type": "display_data"
    },
    {
     "name": "stdout",
     "output_type": "stream",
     "text": [
      "count    922.000000\n",
      "mean       2.309111\n",
      "std        1.390562\n",
      "min        1.000000\n",
      "25%        1.000000\n",
      "50%        2.000000\n",
      "75%        3.000000\n",
      "max       10.000000\n",
      "Name: funding_rounds, dtype: float64\n"
     ]
    },
    {
     "data": {
      "image/png": "[encoded data removed]",
      "text/plain": [
       "<Figure size 432x288 with 1 Axes>"
      ]
     },
     "metadata": {
      "needs_background": "light"
     },
     "output_type": "display_data"
    },
    {
     "name": "stdout",
     "output_type": "stream",
     "text": [
      "count    9.220000e+02\n",
      "mean     2.541017e+07\n",
      "std      1.897371e+08\n",
      "min      1.100000e+04\n",
      "25%      2.712500e+06\n",
      "50%      1.000000e+07\n",
      "75%      2.465264e+07\n",
      "max      5.700000e+09\n",
      "Name: funding_total_usd, dtype: float64\n"
     ]
    },
    {
     "data": {
      "image/png": "[encoded data removed]",
      "text/plain": [
       "<Figure size 432x288 with 1 Axes>"
      ]
     },
     "metadata": {
      "needs_background": "light"
     },
     "output_type": "display_data"
    },
    {
     "name": "stdout",
     "output_type": "stream",
     "text": [
      "milestones \n",
      " 1    250\n",
      "2    245\n",
      "3    182\n",
      "0    152\n",
      "4     62\n",
      "5     24\n",
      "6      6\n",
      "8      1\n",
      "Name: milestones, dtype: int64 \n",
      "\n",
      "is_CA \n",
      " 1    486\n",
      "0    436\n",
      "Name: is_CA, dtype: int64 \n",
      "\n",
      "is_NY \n",
      " 0    816\n",
      "1    106\n",
      "Name: is_NY, dtype: int64 \n",
      "\n",
      "is_MA \n",
      " 0    839\n",
      "1     83\n",
      "Name: is_MA, dtype: int64 \n",
      "\n",
      "is_TX \n",
      " 0    880\n",
      "1     42\n",
      "Name: is_TX, dtype: int64 \n",
      "\n",
      "is_otherstate \n",
      " 0    718\n",
      "1    204\n",
      "Name: is_otherstate, dtype: int64 \n",
      "\n",
      "category_code \n",
      " software            153\n",
      "web                 144\n",
      "mobile               79\n",
      "enterprise           73\n",
      "advertising          62\n",
      "games_video          52\n",
      "semiconductor        35\n",
      "network_hosting      34\n",
      "biotech              34\n",
      "hardware             27\n",
      "ecommerce            25\n",
      "public_relations     25\n",
      "cleantech            22\n",
      "analytics            19\n",
      "security             19\n",
      "social               14\n",
      "search               12\n",
      "other                11\n",
      "messaging            11\n",
      "fashion               8\n",
      "news                  8\n",
      "travel                8\n",
      "photo_video           7\n",
      "medical               7\n",
      "music                 6\n",
      "finance               6\n",
      "education             4\n",
      "consulting            3\n",
      "real_estate           3\n",
      "health                3\n",
      "automotive            2\n",
      "transportation        2\n",
      "manufacturing         2\n",
      "sports                1\n",
      "hospitality           1\n",
      "Name: category_code, dtype: int64 \n",
      "\n",
      "is_software \n",
      " 0    769\n",
      "1    153\n",
      "Name: is_software, dtype: int64 \n",
      "\n",
      "is_web \n",
      " 0    778\n",
      "1    144\n",
      "Name: is_web, dtype: int64 \n",
      "\n",
      "is_mobile \n",
      " 0    843\n",
      "1     79\n",
      "Name: is_mobile, dtype: int64 \n",
      "\n",
      "is_enterprise \n",
      " 0    849\n",
      "1     73\n",
      "Name: is_enterprise, dtype: int64 \n",
      "\n",
      "is_advertising \n",
      " 0    860\n",
      "1     62\n",
      "Name: is_advertising, dtype: int64 \n",
      "\n",
      "is_gamesvideo \n",
      " 0    870\n",
      "1     52\n",
      "Name: is_gamesvideo, dtype: int64 \n",
      "\n",
      "is_ecommerce \n",
      " 0    897\n",
      "1     25\n",
      "Name: is_ecommerce, dtype: int64 \n",
      "\n",
      "is_biotech \n",
      " 0    888\n",
      "1     34\n",
      "Name: is_biotech, dtype: int64 \n",
      "\n",
      "is_consulting \n",
      " 0    919\n",
      "1      3\n",
      "Name: is_consulting, dtype: int64 \n",
      "\n",
      "is_othercategory \n",
      " 0    625\n",
      "1    297\n",
      "Name: is_othercategory, dtype: int64 \n",
      "\n",
      "has_VC \n",
      " 0    622\n",
      "1    300\n",
      "Name: has_VC, dtype: int64 \n",
      "\n",
      "has_angel \n",
      " 0    687\n",
      "1    235\n",
      "Name: has_angel, dtype: int64 \n",
      "\n",
      "has_roundA \n",
      " 1    468\n",
      "0    454\n",
      "Name: has_roundA, dtype: int64 \n",
      "\n",
      "has_roundB \n",
      " 0    561\n",
      "1    361\n",
      "Name: has_roundB, dtype: int64 \n",
      "\n",
      "has_roundC \n",
      " 0    708\n",
      "1    214\n",
      "Name: has_roundC, dtype: int64 \n",
      "\n",
      "has_roundD \n",
      " 0    830\n",
      "1     92\n",
      "Name: has_roundD, dtype: int64 \n",
      "\n",
      "count    922.000000\n",
      "mean       2.839225\n",
      "std        1.875518\n",
      "min        1.000000\n",
      "25%        1.500000\n",
      "50%        2.500000\n",
      "75%        3.800000\n",
      "max       16.000000\n",
      "Name: avg_participants, dtype: float64\n"
     ]
    },
    {
     "data": {
      "image/png": "[encoded data removed]",
      "text/plain": [
       "<Figure size 432x288 with 1 Axes>"
      ]
     },
     "metadata": {
      "needs_background": "light"
     },
     "output_type": "display_data"
    },
    {
     "name": "stdout",
     "output_type": "stream",
     "text": [
      "is_top500 \n",
      " 1    746\n",
      "0    176\n",
      "Name: is_top500, dtype: int64 \n",
      "\n"
     ]
    }
   ],
   "source": [
    "#histograms/bar charts of all features\n",
    "columns = df.columns\n",
    "for col in columns:\n",
    "    if col in ss_ftrs:\n",
    "        print(df[col].describe())\n",
    "        df[col].plot.hist()\n",
    "        plt.xlabel(col)\n",
    "        plt.ylabel('count')\n",
    "        plt.show()\n",
    "    if col in cat_ftrs:\n",
    "        print(col, '\\n', df[col].value_counts(), '\\n')\n",
    "        "
   ]
  },
  {
   "cell_type": "code",
   "execution_count": 144,
   "metadata": {},
   "outputs": [
    {
     "data": {
      "image/png": "[encoded data removed]",
      "text/plain": [
       "<Figure size 432x288 with 1 Axes>"
      ]
     },
     "metadata": {
      "needs_background": "light"
     },
     "output_type": "display_data"
    }
   ],
   "source": [
    "df['status'].value_counts().plot.bar()\n",
    "plt.ylabel('count')\n",
    "plt.title('figure 1: value counts for exit status')\n",
    "plt.show()"
   ]
  },
  {
   "cell_type": "code",
   "execution_count": 147,
   "metadata": {},
   "outputs": [
    {
     "data": {
      "image/png": "[encoded data removed]",
      "text/plain": [
       "<Figure size 432x288 with 1 Axes>"
      ]
     },
     "metadata": {
      "needs_background": "light"
     },
     "output_type": "display_data"
    },
    {
     "data": {
      "image/png": "[encoded data removed]",
      "text/plain": [
       "<Figure size 432x288 with 1 Axes>"
      ]
     },
     "metadata": {
      "needs_background": "light"
     },
     "output_type": "display_data"
    }
   ],
   "source": [
    "#comparing how well california startups did relative to the rest of the country\n",
    "count_matrix = df.groupby(['is_CA', 'status']).size().unstack()\n",
    "count_matrix_norm = count_matrix.div(count_matrix.sum(axis=1),axis=0)\n",
    "count_matrix_norm.plot(kind='bar', stacked=True, color = ['k', 'grey'])\n",
    "plt.title('figure 2a: exit status vs. in CA')\n",
    "plt.xlabel('Outside California (0), In California (1)')\n",
    "plt.ylabel('fraction of startups')\n",
    "plt.legend(loc=4)\n",
    "plt.show()\n",
    "\n",
    "count_matrix = df.groupby(['is_CA', 'has_VC']).size().unstack()\n",
    "count_matrix_norm = count_matrix.div(count_matrix.sum(axis=1),axis=0)\n",
    "count_matrix_norm.plot(kind='bar', stacked=True, color = ['k', 'grey'])\n",
    "plt.xlabel('Outside California (0), In California (1)')\n",
    "plt.title('figure 2b: VC funding vs. In CA')\n",
    "plt.ylabel('fraction with VC funding')\n",
    "plt.legend(loc=4)\n",
    "plt.show()"
   ]
  },
  {
   "cell_type": "code",
   "execution_count": 131,
   "metadata": {
    "scrolled": true
   },
   "outputs": [
    {
     "data": {
      "image/png": "[encoded data removed]",
      "text/plain": [
       "<Figure size 432x288 with 1 Axes>"
      ]
     },
     "metadata": {
      "needs_background": "light"
     },
     "output_type": "display_data"
    }
   ],
   "source": [
    "#histogram of the industries\n",
    "df['category_code'].value_counts().plot.bar(color = 'turquoise')\n",
    "plt.ylabel('number of companies')\n",
    "plt.show()"
   ]
  },
  {
   "cell_type": "code",
   "execution_count": 132,
   "metadata": {
    "scrolled": false
   },
   "outputs": [
    {
     "data": {
      "image/png": "[encoded data removed]",
      "text/plain": [
       "<Figure size 432x288 with 1 Axes>"
      ]
     },
     "metadata": {
      "needs_background": "light"
     },
     "output_type": "display_data"
    }
   ],
   "source": [
    "#plot showing industry type against total funding amount in usd\n",
    "df.groupby('category_code', as_index=True)['funding_total_usd'].mean().plot.bar(color = 'k')\n",
    "plt.ylabel('total funding')\n",
    "plt.show()"
   ]
  },
  {
   "cell_type": "code",
   "execution_count": 148,
   "metadata": {
    "scrolled": true
   },
   "outputs": [
    {
     "data": {
      "image/png": "[encoded data removed]",
      "text/plain": [
       "<Figure size 432x288 with 1 Axes>"
      ]
     },
     "metadata": {
      "needs_background": "light"
     },
     "output_type": "display_data"
    }
   ],
   "source": [
    "#comparing age of first funding year and age at first milestone shows a high concentration near (0,0)\n",
    "#it is interesting to note the few outliers that were funded much later in their lives\n",
    "df.plot.scatter('age_first_funding_year', 'age_first_milestone_year', s=10, alpha=.1)\n",
    "plt.title('figure 3: first funding age vs. first milestone age')\n",
    "plt.show()"
   ]
  },
  {
   "cell_type": "code",
   "execution_count": 134,
   "metadata": {
    "scrolled": true
   },
   "outputs": [
    {
     "data": {
      "image/png": "[encoded data removed]",
      "text/plain": [
       "<Figure size 432x288 with 1 Axes>"
      ]
     },
     "metadata": {
      "needs_background": "light"
     },
     "output_type": "display_data"
    }
   ],
   "source": [
    "#funding vs status\n",
    "count_matrix = df.groupby(['has_VC', 'status']).size().unstack()\n",
    "count_matrix_norm = count_matrix.div(count_matrix.sum(axis=1),axis=0)\n",
    "count_matrix_norm.plot(kind='bar', stacked=True, color = ['turquoise', 'lavender'])\n",
    "plt.ylabel('status of company')\n",
    "plt.xlabel('VC funding')\n",
    "plt.legend(loc=4)\n",
    "plt.show()"
   ]
  },
  {
   "cell_type": "code",
   "execution_count": 135,
   "metadata": {},
   "outputs": [
    {
     "data": {
      "text/html": [
       "<div>\n",
       "<style scoped>\n",
       "    .dataframe tbody tr th:only-of-type {\n",
       "        vertical-align: middle;\n",
       "    }\n",
       "\n",
       "    .dataframe tbody tr th {\n",
       "        vertical-align: top;\n",
       "    }\n",
       "\n",
       "    .dataframe thead th {\n",
       "        text-align: right;\n",
       "    }\n",
       "</style>\n",
       "<table border=\"1\" class=\"dataframe\">\n",
       "  <thead>\n",
       "    <tr style=\"text-align: right;\">\n",
       "      <th>status</th>\n",
       "      <th>acquired</th>\n",
       "      <th>closed</th>\n",
       "    </tr>\n",
       "    <tr>\n",
       "      <th>has_VC</th>\n",
       "      <th></th>\n",
       "      <th></th>\n",
       "    </tr>\n",
       "  </thead>\n",
       "  <tbody>\n",
       "    <tr>\n",
       "      <th>0</th>\n",
       "      <td>414</td>\n",
       "      <td>208</td>\n",
       "    </tr>\n",
       "    <tr>\n",
       "      <th>1</th>\n",
       "      <td>182</td>\n",
       "      <td>118</td>\n",
       "    </tr>\n",
       "  </tbody>\n",
       "</table>\n",
       "</div>"
      ],
      "text/plain": [
       "status  acquired  closed\n",
       "has_VC                  \n",
       "0            414     208\n",
       "1            182     118"
      ]
     },
     "execution_count": 135,
     "metadata": {},
     "output_type": "execute_result"
    }
   ],
   "source": [
    "df.groupby(['has_VC', 'status']).size().unstack()"
   ]
  },
  {
   "cell_type": "markdown",
   "metadata": {},
   "source": [
    "## Split Data"
   ]
  },
  {
   "cell_type": "code",
   "execution_count": 136,
   "metadata": {},
   "outputs": [],
   "source": [
    "#set X and y matrices\n",
    "y = df['status']\n",
    "X = df.loc[:, df.columns != 'status']\n",
    "X = X.fillna(0)"
   ]
  },
  {
   "cell_type": "code",
   "execution_count": 137,
   "metadata": {},
   "outputs": [],
   "source": [
    "#data split\n",
    "random_state = 7\n",
    "\n",
    "#separate out training set\n",
    "X_train, X_other, y_train, y_other = train_test_split(X,y,train_size = 0.6,random_state=random_state)\n",
    "\n",
    "#split out validation and test sets\n",
    "X_val, X_test, y_val, y_test = train_test_split(X,y,train_size = 0.5,random_state=random_state)"
   ]
  },
  {
   "cell_type": "markdown",
   "metadata": {},
   "source": [
    "## Preprocessing"
   ]
  },
  {
   "cell_type": "code",
   "execution_count": 138,
   "metadata": {},
   "outputs": [
    {
     "name": "stdout",
     "output_type": "stream",
     "text": [
      "[[ 0.          0.          0.         ... -0.9601818   0.07886135\n",
      "  -0.11928396]\n",
      " [ 0.          1.          0.         ... -0.9601818   3.61963765\n",
      "  -0.11646285]\n",
      " [ 0.          1.          0.         ...  2.70681085  1.09051172\n",
      "   0.09867417]\n",
      " [ 0.          0.          0.         ... -0.22678327 -0.93278903\n",
      "  -0.12035827]\n",
      " [ 0.          0.          0.         ... -0.22678327  0.07886135\n",
      "  -0.11390007]]\n"
     ]
    }
   ],
   "source": [
    "#preprocess the data using one hot encoder and standard scaler\n",
    "\n",
    "preprocessor = ColumnTransformer(transformers = \n",
    "        [('onehot',  OneHotEncoder(sparse=False, handle_unknown='ignore'), cat_ftrs), \n",
    "          ('ss', StandardScaler(), ss_ftrs)])\n",
    "\n",
    "clf = Pipeline(steps = [('preprocessor', preprocessor)])\n",
    "\n",
    "X_train_prep = clf.fit_transform(X_train)\n",
    "X_val_prep = clf.transform(X_val)\n",
    "X_test_prep = clf.transform(X_test)\n",
    "\n",
    "print(X_train_prep[:5])"
   ]
  },
  {
   "cell_type": "code",
   "execution_count": 139,
   "metadata": {},
   "outputs": [],
   "source": [
    "#label encoder for target variable\n",
    "le = LabelEncoder()\n",
    "y_train_prep = le.fit_transform(y_train)\n",
    "y_val_prep = le.transform(y_val)\n",
    "y_test_prep = le.transform(y_test)"
   ]
  },
  {
   "cell_type": "code",
   "execution_count": 140,
   "metadata": {},
   "outputs": [
    {
     "data": {
      "text/plain": [
       "(553, 1720)"
      ]
     },
     "execution_count": 140,
     "metadata": {},
     "output_type": "execute_result"
    }
   ],
   "source": [
    "X_train_prep.shape"
   ]
  },
  {
   "cell_type": "code",
   "execution_count": null,
   "metadata": {},
   "outputs": [],
   "source": []
  }
 ],
 "metadata": {
  "kernelspec": {
   "display_name": "Python 3",
   "language": "python",
   "name": "python3"
  },
  "language_info": {
   "codemirror_mode": {
    "name": "ipython",
    "version": 3
   },
   "file_extension": ".py",
   "mimetype": "text/x-python",
   "name": "python",
   "nbconvert_exporter": "python",
   "pygments_lexer": "ipython3",
   "version": "3.7.8"
  }
 },
 "nbformat": 4,
 "nbformat_minor": 4
}
